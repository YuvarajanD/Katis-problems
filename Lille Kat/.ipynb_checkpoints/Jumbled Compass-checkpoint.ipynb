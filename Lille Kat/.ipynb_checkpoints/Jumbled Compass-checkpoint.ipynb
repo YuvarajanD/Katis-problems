{
 "cells": [
  {
   "cell_type": "markdown",
   "metadata": {},
   "source": [
    "## Question <br>\n",
    "## https://open.kattis.com/contests/g6grqf/problems/compass"
   ]
  },
  {
   "cell_type": "markdown",
   "metadata": {},
   "source": [
    "#### Read sample input and store"
   ]
  },
  {
   "cell_type": "code",
   "execution_count": 1,
   "metadata": {},
   "outputs": [],
   "source": [
    "with open(\"Jumbled Compass.txt\") as f:\n",
    "    content = f.readlines()\n",
    "# you may also want to remove whitespace characters like `\\n` at the end of each line\n",
    "content = [x.strip() for x in content] "
   ]
  },
  {
   "cell_type": "code",
   "execution_count": 2,
   "metadata": {},
   "outputs": [
    {
     "data": {
      "text/plain": [
       "['3', '0 100 70', '100 130 30', '-100 -70 40']"
      ]
     },
     "execution_count": 2,
     "metadata": {},
     "output_type": "execute_result"
    }
   ],
   "source": [
    "content"
   ]
  },
  {
   "cell_type": "code",
   "execution_count": 3,
   "metadata": {},
   "outputs": [
    {
     "name": "stdout",
     "output_type": "stream",
     "text": [
      "advertise\n",
      "does not matter\n",
      "do not advertise\n"
     ]
    }
   ],
   "source": [
    "# Store the first line as number of cases\n",
    "n = int(content[0])\n",
    "\n",
    "# Process each case according to the formula\n",
    "for case_number in range(n):\n",
    "    case_content = content[case_number+1].split(\" \")\n",
    "    r = int(case_content[0])\n",
    "    e = int(case_content[1])\n",
    "    c = int(case_content[2])\n",
    "    if(e-r==c):\n",
    "        print(\"does not matter\")\n",
    "    elif(e-r<c):\n",
    "        print(\"do not advertise\")\n",
    "    elif(e-r>c):\n",
    "        print(\"advertise\")\n",
    "        \n",
    "    "
   ]
  }
 ],
 "metadata": {
  "kernelspec": {
   "display_name": "Python 3",
   "language": "python",
   "name": "python3"
  },
  "language_info": {
   "codemirror_mode": {
    "name": "ipython",
    "version": 3
   },
   "file_extension": ".py",
   "mimetype": "text/x-python",
   "name": "python",
   "nbconvert_exporter": "python",
   "pygments_lexer": "ipython3",
   "version": "3.7.3"
  }
 },
 "nbformat": 4,
 "nbformat_minor": 4
}
