{
 "cells": [
  {
   "cell_type": "markdown",
   "metadata": {},
   "source": [
    "## Question <br>\n",
    "## https://open.kattis.com/contests/g6grqf/problems/cardtrick2"
   ]
  },
  {
   "cell_type": "markdown",
   "metadata": {},
   "source": [
    "#### Read sample input and store"
   ]
  },
  {
   "cell_type": "code",
   "execution_count": 1,
   "metadata": {},
   "outputs": [],
   "source": [
    "with open(\"Card Trick.txt\") as f:\n",
    "    content = f.readlines()\n",
    "# you may also want to remove whitespace characters like `\\n` at the end of each line\n",
    "content = [x.strip() for x in content] "
   ]
  },
  {
   "cell_type": "code",
   "execution_count": 2,
   "metadata": {},
   "outputs": [],
   "source": [
    "n = int(content[0])\n",
    "case = []\n",
    "\n",
    "for i in range(n):\n",
    "    case.append(int(content[i+1]))"
   ]
  },
  {
   "cell_type": "code",
   "execution_count": 3,
   "metadata": {},
   "outputs": [
    {
     "name": "stdout",
     "output_type": "stream",
     "text": [
      "4\n",
      "5\n"
     ]
    }
   ],
   "source": [
    "print(\"\\n\".join(str(i) for i in case))"
   ]
  },
  {
   "cell_type": "code",
   "execution_count": 4,
   "metadata": {},
   "outputs": [
    {
     "name": "stdout",
     "output_type": "stream",
     "text": [
      "2 1 4 3\n",
      "3 1 4 5 2\n"
     ]
    }
   ],
   "source": [
    "while n > 0:\n",
    "    \n",
    "    n -= 1\n",
    "\n",
    "    deck = []\n",
    "    number_of_cards = case[n-1]\n",
    "    \n",
    "    for i in range(number_of_cards, 0, -1):\n",
    "        deck.insert(0, i)\n",
    "#         print(deck)\n",
    "\n",
    "        for j in range(0, i):\n",
    "            deck.insert(0, deck.pop())\n",
    "            \n",
    "    print(\" \".join(str(i) for i in deck))"
   ]
  }
 ],
 "metadata": {
  "kernelspec": {
   "display_name": "Python 3",
   "language": "python",
   "name": "python3"
  },
  "language_info": {
   "codemirror_mode": {
    "name": "ipython",
    "version": 3
   },
   "file_extension": ".py",
   "mimetype": "text/x-python",
   "name": "python",
   "nbconvert_exporter": "python",
   "pygments_lexer": "ipython3",
   "version": "3.7.3"
  }
 },
 "nbformat": 4,
 "nbformat_minor": 4
}
