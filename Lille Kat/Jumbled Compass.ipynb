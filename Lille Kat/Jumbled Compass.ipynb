{
 "cells": [
  {
   "cell_type": "markdown",
   "metadata": {},
   "source": [
    "## Question <br>\n",
    "## https://open.kattis.com/contests/g6grqf/problems/compass"
   ]
  },
  {
   "cell_type": "markdown",
   "metadata": {},
   "source": [
    "#### Read sample input and store"
   ]
  },
  {
   "cell_type": "code",
   "execution_count": 1,
   "metadata": {},
   "outputs": [],
   "source": [
    "with open(\"Jumbled Compass.txt\") as f:\n",
    "    content = f.readlines()\n",
    "# you may also want to remove whitespace characters like `\\n` at the end of each line\n",
    "content = [x.strip() for x in content] "
   ]
  },
  {
   "cell_type": "code",
   "execution_count": 6,
   "metadata": {},
   "outputs": [],
   "source": [
    "# Store the values\n",
    "n1 = int(content[0]) # current_direction_needle\n",
    "n2 = int(content[1]) # correct_direction_needle"
   ]
  },
  {
   "cell_type": "code",
   "execution_count": 51,
   "metadata": {},
   "outputs": [],
   "source": [
    "# n1 = 315\n",
    "# n2 = 45\n",
    "\n",
    "# n1 = 180\n",
    "# n2 = 270\n",
    "\n",
    "n1 = 45\n",
    "n2 = 270"
   ]
  },
  {
   "cell_type": "code",
   "execution_count": 52,
   "metadata": {},
   "outputs": [],
   "source": [
    "upper_bound_degree = 359\n",
    "lower_bound_degree = 0"
   ]
  },
  {
   "cell_type": "code",
   "execution_count": 53,
   "metadata": {},
   "outputs": [],
   "source": [
    "n1_condition = (n1<=upper_bound_degree) & (n1>=lower_bound_degree)\n",
    "n2_condition = (n2<=upper_bound_degree) & (n2>=lower_bound_degree)"
   ]
  },
  {
   "cell_type": "code",
   "execution_count": 56,
   "metadata": {},
   "outputs": [
    {
     "name": "stdout",
     "output_type": "stream",
     "text": [
      "135\n"
     ]
    }
   ],
   "source": [
    "if(n1_condition & n2_condition):\n",
    "    difference = n2 - n1\n",
    "    if((difference>=0) & (difference<=180)):\n",
    "        print(difference)\n",
    "    elif(difference<0):\n",
    "        print(360 + difference)    \n",
    "    elif(difference>180):\n",
    "        print(360 - difference)"
   ]
  },
  {
   "cell_type": "code",
   "execution_count": null,
   "metadata": {},
   "outputs": [],
   "source": []
  }
 ],
 "metadata": {
  "kernelspec": {
   "display_name": "Python 3",
   "language": "python",
   "name": "python3"
  },
  "language_info": {
   "codemirror_mode": {
    "name": "ipython",
    "version": 3
   },
   "file_extension": ".py",
   "mimetype": "text/x-python",
   "name": "python",
   "nbconvert_exporter": "python",
   "pygments_lexer": "ipython3",
   "version": "3.7.3"
  }
 },
 "nbformat": 4,
 "nbformat_minor": 4
}
