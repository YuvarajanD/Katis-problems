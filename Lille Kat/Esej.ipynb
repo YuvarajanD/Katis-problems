{
 "cells": [
  {
   "cell_type": "markdown",
   "metadata": {},
   "source": [
    "## Question <br>\n",
    "## https://open.kattis.com/contests/g6grqf/problems/esej"
   ]
  },
  {
   "cell_type": "markdown",
   "metadata": {},
   "source": [
    "#### Read sample input and store"
   ]
  },
  {
   "cell_type": "code",
   "execution_count": 1,
   "metadata": {},
   "outputs": [],
   "source": [
    "import random"
   ]
  },
  {
   "cell_type": "code",
   "execution_count": 2,
   "metadata": {},
   "outputs": [],
   "source": [
    "with open(\"Esej.txt\") as f:\n",
    "    content = f.readlines()\n",
    "# you may also want to remove whitespace characters like `\\n` at the end of each line\n",
    "content = [x.strip() for x in content] "
   ]
  },
  {
   "cell_type": "markdown",
   "metadata": {},
   "source": [
    "### Set word limit and store A & B"
   ]
  },
  {
   "cell_type": "code",
   "execution_count": 3,
   "metadata": {},
   "outputs": [],
   "source": [
    "A_B = content[0].split(\" \")\n",
    "\n",
    "A = int(A_B[0])\n",
    "B = int(A_B[1])\n",
    "random_word_limit = random.randint(A, B)"
   ]
  },
  {
   "cell_type": "markdown",
   "metadata": {},
   "source": [
    "### Random word generator"
   ]
  },
  {
   "cell_type": "code",
   "execution_count": 4,
   "metadata": {},
   "outputs": [],
   "source": [
    "from RandomWordGenerator import RandomWord\n",
    "\n",
    "# Creating a random word object\n",
    "rw = RandomWord(max_word_size = 15,\n",
    "                constant_word_size = False,\n",
    "                include_digits = False,\n",
    "                special_chars = r\"@_!#$%^&*()<>?/\\|}{~:\",\n",
    "                include_special_chars = False)"
   ]
  },
  {
   "cell_type": "code",
   "execution_count": 5,
   "metadata": {},
   "outputs": [
    {
     "name": "stdout",
     "output_type": "stream",
     "text": [
      "xmbxovb k\n"
     ]
    }
   ],
   "source": [
    "essay = [x.lower() for x in rw.getList(num_of_words = random_word_limit)]\n",
    "print(\" \".join(essay))"
   ]
  }
 ],
 "metadata": {
  "kernelspec": {
   "display_name": "Python 3",
   "language": "python",
   "name": "python3"
  },
  "language_info": {
   "codemirror_mode": {
    "name": "ipython",
    "version": 3
   },
   "file_extension": ".py",
   "mimetype": "text/x-python",
   "name": "python",
   "nbconvert_exporter": "python",
   "pygments_lexer": "ipython3",
   "version": "3.7.3"
  }
 },
 "nbformat": 4,
 "nbformat_minor": 4
}
