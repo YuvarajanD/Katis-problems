{
 "cells": [
  {
   "cell_type": "markdown",
   "metadata": {},
   "source": [
    "## Question <br>\n",
    "## https://open.kattis.com/contests/g6grqf/problems/display"
   ]
  },
  {
   "cell_type": "markdown",
   "metadata": {},
   "source": [
    "### Sample Input"
   ]
  },
  {
   "cell_type": "markdown",
   "metadata": {},
   "source": [
    "16:47 <br>\n",
    "23:59<br>\n",
    "00:08<br>\n",
    "end"
   ]
  },
  {
   "cell_type": "markdown",
   "metadata": {},
   "source": [
    "### Reference : https://stackoverflow.com/questions/58721582/converting-integers-to-seven-segment-display-in-python-"
   ]
  },
  {
   "cell_type": "markdown",
   "metadata": {},
   "source": [
    "#### Create a dictionary of all the numbers and characters used in the digital display"
   ]
  },
  {
   "cell_type": "code",
   "execution_count": 1,
   "metadata": {},
   "outputs": [],
   "source": [
    "representations = {\n",
    "    '0': ('+---+', '|   |', '|   |', '+   +', '|   |', '|   |', '+---+'),\n",
    "    '1': ('    +', '    |', '    |', '    +', '    |', '    |', '    +'),\n",
    "    '2': ('+---+', '    |', '    |', '+---+', '|    ', '|    ', '+---+'),\n",
    "    '3': ('+---+', '    |', '    |', '+---+', '    |', '    |', '+---+'),\n",
    "    '4': ('+   +', '|   |', '|   |', '+---+', '    |', '    |', '    +'),\n",
    "    '5': ('+---+', '|    ', '|    ', '+---+', '    |', '    |', '+---+'),\n",
    "    '6': ('+---+', '|    ', '|    ', '+---+', '|   |', '|   |', '+---+'),\n",
    "    '7': ('+---+', '    |', '    |', '    +', '    |', '    |', '    +'),\n",
    "    '8': ('+---+', '|   |', '|   |', '+---+', '|   |', '|   |', '+---+'),\n",
    "    '9': ('+---+', '|   |', '|   |', '+---+', '    |', '    |', '+---+'),\n",
    "    ':': (' ', ' ', 'o', ' ', 'o', ' ', ' ')\n",
    "}"
   ]
  },
  {
   "cell_type": "code",
   "execution_count": 2,
   "metadata": {},
   "outputs": [],
   "source": [
    "# list = [\"a\",\"b\",\"c\"]\n",
    "# print(\"  \".join(i*2 for i in list))"
   ]
  },
  {
   "cell_type": "code",
   "execution_count": 3,
   "metadata": {},
   "outputs": [],
   "source": [
    "digits = [representations[digit] for digit in str(1234)]\n",
    "x = [segment for segment in digits ]"
   ]
  },
  {
   "cell_type": "code",
   "execution_count": 4,
   "metadata": {},
   "outputs": [
    {
     "data": {
      "text/plain": [
       "[('    +', '    |', '    |', '    +', '    |', '    |', '    +'),\n",
       " ('+---+', '    |', '    |', '+---+', '|    ', '|    ', '+---+'),\n",
       " ('+---+', '    |', '    |', '+---+', '    |', '    |', '+---+'),\n",
       " ('+   +', '|   |', '|   |', '+---+', '    |', '    |', '    +')]"
      ]
     },
     "execution_count": 4,
     "metadata": {},
     "output_type": "execute_result"
    }
   ],
   "source": [
    "x"
   ]
  },
  {
   "cell_type": "code",
   "execution_count": 5,
   "metadata": {},
   "outputs": [
    {
     "data": {
      "text/plain": [
       "[('    +', '    |', '    |', '    +', '    |', '    |', '    +'),\n",
       " ('+---+', '    |', '    |', '+---+', '|    ', '|    ', '+---+'),\n",
       " ('+---+', '    |', '    |', '+---+', '    |', '    |', '+---+'),\n",
       " ('+   +', '|   |', '|   |', '+---+', '    |', '    |', '    +')]"
      ]
     },
     "execution_count": 5,
     "metadata": {},
     "output_type": "execute_result"
    }
   ],
   "source": [
    "x"
   ]
  },
  {
   "cell_type": "code",
   "execution_count": 6,
   "metadata": {},
   "outputs": [],
   "source": [
    "def seven_segment(number):\n",
    "    # treat the number as a string, since that makes it easier to deal with\n",
    "    # on a digit-by-digit basis\n",
    "    digits = [representations[digit] for digit in str(number)]\n",
    "    # now digits is a list of 7-tuples, each representing a digit in the given number\n",
    "    # Print the first lines of each digit, the second lines of each digit, etc.\n",
    "    # List comprehension with join to print the pattern\n",
    "    for i in range(7):\n",
    "        print(\"  \".join(segment[i] for segment in digits))"
   ]
  },
  {
   "cell_type": "code",
   "execution_count": 7,
   "metadata": {},
   "outputs": [
    {
     "name": "stdout",
     "output_type": "stream",
     "text": [
      "    +  +---+     +---+  +   +\n",
      "    |      |         |  |   |\n",
      "    |      |  o      |  |   |\n",
      "    +  +---+     +---+  +---+\n",
      "    |  |      o      |      |\n",
      "    |  |             |      |\n",
      "    +  +---+     +---+      +\n"
     ]
    }
   ],
   "source": [
    "seven_segment(\"12:34\")"
   ]
  },
  {
   "cell_type": "markdown",
   "metadata": {},
   "source": [
    "#### Read file and print Seven Segment"
   ]
  },
  {
   "cell_type": "code",
   "execution_count": 8,
   "metadata": {},
   "outputs": [
    {
     "name": "stdout",
     "output_type": "stream",
     "text": [
      "    +  +---+     +   +  +---+\n",
      "    |  |         |   |      |\n",
      "    |  |      o  |   |      |\n",
      "    +  +---+     +---+      +\n",
      "    |  |   |  o      |      |\n",
      "    |  |   |         |      |\n",
      "    +  +---+         +      +\n",
      "\n",
      "\n",
      "\n",
      "+---+  +---+     +---+  +---+\n",
      "    |      |     |      |   |\n",
      "    |      |  o  |      |   |\n",
      "+---+  +---+     +---+  +---+\n",
      "|          |  o      |      |\n",
      "|          |         |      |\n",
      "+---+  +---+     +---+  +---+\n",
      "\n",
      "\n",
      "\n",
      "+---+  +---+     +---+  +---+\n",
      "|   |  |   |     |   |  |   |\n",
      "|   |  |   |  o  |   |  |   |\n",
      "+   +  +   +     +   +  +---+\n",
      "|   |  |   |  o  |   |  |   |\n",
      "|   |  |   |     |   |  |   |\n",
      "+---+  +---+     +---+  +---+\n",
      "\n",
      "\n",
      "\n",
      "end\n"
     ]
    }
   ],
   "source": [
    "file = open(\"Digital Display.txt\", \"r\")\n",
    "\n",
    "while True:\n",
    "    # Get next line from file \n",
    "    line = file.readline() \n",
    "\n",
    "    # if line is empty \n",
    "    # end of file is reached \n",
    "    if line.lower()=='end': \n",
    "        print(line)\n",
    "        break\n",
    "    else:\n",
    "        seven_segment(line.strip())\n",
    "        print(\"\\n\\n\")\n",
    "\n",
    "\n",
    "file.close()"
   ]
  }
 ],
 "metadata": {
  "kernelspec": {
   "display_name": "Python 3",
   "language": "python",
   "name": "python3"
  },
  "language_info": {
   "codemirror_mode": {
    "name": "ipython",
    "version": 3
   },
   "file_extension": ".py",
   "mimetype": "text/x-python",
   "name": "python",
   "nbconvert_exporter": "python",
   "pygments_lexer": "ipython3",
   "version": "3.7.3"
  }
 },
 "nbformat": 4,
 "nbformat_minor": 4
}
